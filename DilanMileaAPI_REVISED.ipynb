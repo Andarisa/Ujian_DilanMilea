{
 "cells": [
  {
   "cell_type": "code",
   "execution_count": 1,
   "metadata": {},
   "outputs": [],
   "source": [
    "import requests"
   ]
  },
  {
   "cell_type": "code",
   "execution_count": 2,
   "metadata": {},
   "outputs": [
    {
     "name": "stdout",
     "output_type": "stream",
     "text": [
      "{'11': 'ACEH', '12': 'SUMATERA UTARA', '13': 'SUMATERA BARAT', '14': 'RIAU', '15': 'JAMBI', '16': 'SUMATERA SELATAN', '17': 'BENGKULU', '18': 'LAMPUNG', '19': 'KEPULAUAN BANGKA BELITUNG', '21': 'KEPULAUAN RIAU', '31': 'DAERAH KHUSUS IBUKOTA JAKARTA', '32': 'JAWA BARAT', '33': 'JAWA TENGAH', '34': 'DAERAH ISTIMEWA YOGYAKARTA', '35': 'JAWA TIMUR', '36': 'BANTEN', '51': 'BALI', '52': 'NUSA TENGGARA BARAT', '53': 'NUSA TENGGARA TIMUR', '61': 'KALIMANTAN BARAT', '62': 'KALIMANTAN TENGAH', '63': 'KALIMANTAN SELATAN', '64': 'KALIMANTAN TIMUR', '65': 'KALIMANTAN UTARA', '71': 'SULAWESI UTARA', '72': 'SULAWESI TENGAH', '73': 'SULAWESI SELATAN', '74': 'SULAWESI TENGGARA', '75': 'GORONTALO', '76': 'SULAWESI BARAT', '81': 'MALUKU', '82': 'MALUKU UTARA', '91': 'PAPUA', '92': 'PAPUA BARAT'}\n"
     ]
    }
   ],
   "source": [
    "url = 'https://raw.githubusercontent.com/LintangWisesa/Ujian_Fundamental_JCDS08/master/data/provinsi.json'\n",
    "data = requests.get(url)\n",
    "\n",
    "hasil = data.json()\n",
    "print(hasil)"
   ]
  },
  {
   "cell_type": "code",
   "execution_count": 3,
   "metadata": {},
   "outputs": [
    {
     "name": "stdout",
     "output_type": "stream",
     "text": [
      "{'ACEH': '11', 'SUMATERA UTARA': '12', 'SUMATERA BARAT': '13', 'RIAU': '14', 'JAMBI': '15', 'SUMATERA SELATAN': '16', 'BENGKULU': '17', 'LAMPUNG': '18', 'KEPULAUAN BANGKA BELITUNG': '19', 'KEPULAUAN RIAU': '21', 'DAERAH KHUSUS IBUKOTA JAKARTA': '31', 'JAWA BARAT': '32', 'JAWA TENGAH': '33', 'DAERAH ISTIMEWA YOGYAKARTA': '34', 'JAWA TIMUR': '35', 'BANTEN': '36', 'BALI': '51', 'NUSA TENGGARA BARAT': '52', 'NUSA TENGGARA TIMUR': '53', 'KALIMANTAN BARAT': '61', 'KALIMANTAN TENGAH': '62', 'KALIMANTAN SELATAN': '63', 'KALIMANTAN TIMUR': '64', 'KALIMANTAN UTARA': '65', 'SULAWESI UTARA': '71', 'SULAWESI TENGAH': '72', 'SULAWESI SELATAN': '73', 'SULAWESI TENGGARA': '74', 'GORONTALO': '75', 'SULAWESI BARAT': '76', 'MALUKU': '81', 'MALUKU UTARA': '82', 'PAPUA': '91', 'PAPUA BARAT': '92'}\n"
     ]
    }
   ],
   "source": [
    "list_key = list(hasil.keys())\n",
    "\n",
    "list_value= list(hasil.values())\n",
    "\n",
    "hasil_ = dict(zip(list_value,list_key))\n",
    "\n",
    "print(hasil_)"
   ]
  },
  {
   "cell_type": "code",
   "execution_count": 4,
   "metadata": {},
   "outputs": [],
   "source": [
    "prov_dilan = hasil_['BANTEN']\n",
    "\n",
    "prov_milea = hasil_['JAWA BARAT']\n"
   ]
  },
  {
   "cell_type": "code",
   "execution_count": 5,
   "metadata": {},
   "outputs": [],
   "source": [
    "url_2 = 'https://raw.githubusercontent.com/LintangWisesa/Ujian_Fundamental_JCDS08/master/data/kodepos.json'\n",
    "data_2 = requests.get(url_2)\n",
    "\n",
    "hasil_2 = data_2.json()\n"
   ]
  },
  {
   "cell_type": "code",
   "execution_count": 6,
   "metadata": {},
   "outputs": [
    {
     "name": "stdout",
     "output_type": "stream",
     "text": [
      "15345\n"
     ]
    }
   ],
   "source": [
    "for item in hasil_2[prov_dilan]:\n",
    "    if item['urban'] == 'SAMPORA' and item['sub_district'] == 'CISAUK':\n",
    "        postal_dilan = item['postal_code']\n",
    "\n",
    "print(postal_dilan)"
   ]
  },
  {
   "cell_type": "code",
   "execution_count": 7,
   "metadata": {},
   "outputs": [
    {
     "name": "stdout",
     "output_type": "stream",
     "text": [
      "40115\n"
     ]
    }
   ],
   "source": [
    "for item in hasil_2[prov_milea]:\n",
    "    if item['urban'] == 'CITARUM' and item['sub_district'] == 'BANDUNG WETAN':\n",
    "        postal_milea = item['postal_code']\n",
    "\n",
    "print(postal_milea)"
   ]
  },
  {
   "cell_type": "code",
   "execution_count": 8,
   "metadata": {},
   "outputs": [],
   "source": [
    "apiKey = '9o4F23jAUDB70J9uM8BNjdzNnvulCaUJJgsGBHThVNt1JalwAfU41lCHobjoJtov'\n",
    "url_jarak = f'http://www.zipcodeapi.com/rest/{apiKey}/distance.json/{postal_dilan}/{postal_milea}/km'\n",
    "data_jarak = requests.get(url_jarak)\n",
    "\n",
    "hasil_jarak = data_jarak.json()\n",
    "\n",
    "jarak = hasil_jarak['distance']"
   ]
  },
  {
   "cell_type": "code",
   "execution_count": 9,
   "metadata": {},
   "outputs": [
    {
     "name": "stdout",
     "output_type": "stream",
     "text": [
      "Kode Pos lokasi Dilan adalah 15345\n",
      "Kode Pos lokasi Milea adalah 40115\n",
      "Jarak Dilan & Milea adalah 588.101 km\n"
     ]
    }
   ],
   "source": [
    "print(f'Kode Pos lokasi Dilan adalah {postal_dilan}')\n",
    "print(f'Kode Pos lokasi Milea adalah {postal_milea}')\n",
    "print(f'Jarak Dilan & Milea adalah {jarak} km' )"
   ]
  },
  {
   "cell_type": "code",
   "execution_count": null,
   "metadata": {},
   "outputs": [],
   "source": []
  }
 ],
 "metadata": {
  "kernelspec": {
   "display_name": "Python 3",
   "language": "python",
   "name": "python3"
  },
  "language_info": {
   "codemirror_mode": {
    "name": "ipython",
    "version": 3
   },
   "file_extension": ".py",
   "mimetype": "text/x-python",
   "name": "python",
   "nbconvert_exporter": "python",
   "pygments_lexer": "ipython3",
   "version": "3.8.1"
  }
 },
 "nbformat": 4,
 "nbformat_minor": 4
}
